{
 "cells": [
  {
   "cell_type": "code",
   "execution_count": 1,
   "id": "eb48e198-920e-452a-a350-c9a9daed06e2",
   "metadata": {},
   "outputs": [],
   "source": [
    "import warnings\n",
    "warnings.filterwarnings(\"ignore\", category=DeprecationWarning) \n",
    "\n",
    "# Data\n",
    "\n",
    "import numpy as np\n",
    "import pandas as pd\n",
    "import xarray as xr\n",
    "import bottleneck as bn\n",
    "import iris\n",
    "\n",
    "# Plotting\n",
    "\n",
    "import matplotlib.pyplot as plt\n",
    "import seaborn as sns\n",
    "import geopandas as gpd\n",
    "from shapely.geometry import Point"
   ]
  },
  {
   "cell_type": "code",
   "execution_count": 2,
   "id": "91cb0823-a73d-4d69-808c-362f2b363162",
   "metadata": {},
   "outputs": [],
   "source": [
    "# Define some filepaths that will be used a lot\n",
    "home_dir = '/home/561/mg5624/RF_project/'\n",
    "my_data_dir = '/g/data/w97/mg5624/'\n",
    "shared_data_dir = '/g/data/w97/Shared_data/Observations/'"
   ]
  },
  {
   "cell_type": "markdown",
   "id": "a3ccd2cf-e5c9-450b-ad08-4a8540075f30",
   "metadata": {},
   "source": [
    "## Take Necessary Data from Sanaa's Dataframe"
   ]
  },
  {
   "cell_type": "code",
   "execution_count": 3,
   "id": "94177663-1080-44e0-9c01-a8de4e48889f",
   "metadata": {},
   "outputs": [
    {
     "name": "stdout",
     "output_type": "stream",
     "text": [
      "     Year     Month Year_Month     Location  Latitude  Longitude  Drought  \\\n",
      "0    2014     March    2014-03        Cobar  -31.4980   145.8383        1   \n",
      "1    2014  February    2014-02        Cobar  -31.4980   145.8383        1   \n",
      "2    2014   January    2014-01        Cobar  -31.4980   145.8383        1   \n",
      "3    2014     March    2014-03      Walgett  -30.0167   148.1167        1   \n",
      "4    2014  February    2014-02      Walgett  -30.0167   148.1167        1   \n",
      "..    ...       ...        ...          ...       ...        ...      ...   \n",
      "930  2020  November    2020-11  Wagga Wagga  -35.1330   147.3670        0   \n",
      "931  2020  December    2020-12  Wagga Wagga  -35.1330   147.3670        0   \n",
      "932  2021   January    2021-01  Wagga Wagga  -35.1330   147.3670        0   \n",
      "933  2021  February    2021-02  Wagga Wagga  -35.1330   147.3670        0   \n",
      "934  2021     March    2021-03  Wagga Wagga  -35.1330   147.3670        0   \n",
      "\n",
      "     Deep_Drainage  PET_Actual    E_Actual  Soil_M_root_zone      Qtot  \\\n",
      "0         2.349609  157.679688   70.867188          0.265625  0.500000   \n",
      "1         1.896484  203.679688   28.414062          0.146484  2.351562   \n",
      "2         2.130859  273.570312   30.031250          0.082031  0.078125   \n",
      "3         0.298828  176.757812   27.703125          0.082031  0.054688   \n",
      "4         0.271484  203.789062    7.820312          0.023438  0.015625   \n",
      "..             ...         ...         ...               ...       ...   \n",
      "930       1.437500  194.179688   79.210938          0.224609  0.054688   \n",
      "931       1.455078  215.671875   71.375000          0.196289  0.148438   \n",
      "932       1.431641  209.195312   57.593750          0.111328  0.210938   \n",
      "933       1.328125  167.609375  100.804688          0.370117  0.929688   \n",
      "934       1.493164  126.960938   73.601562          0.190430  0.218750   \n",
      "\n",
      "       Rainfall  ENSO    IOD   SAM    P_acc_3M  \n",
      "0     57.000000  0.54 -0.051  1.34  145.500000  \n",
      "1     84.101562 -0.37 -0.009  0.36  119.500000  \n",
      "2      4.398438 -1.26 -0.036 -0.13   37.000000  \n",
      "3     34.000000  0.54 -0.051  1.34   68.203125  \n",
      "4     27.000000 -0.37 -0.009  0.36   41.000000  \n",
      "..          ...   ...    ...   ...         ...  \n",
      "930   37.398438 -1.19  0.143  1.14  194.304688  \n",
      "931   63.500000 -1.86  0.100  2.28  199.906250  \n",
      "932   76.796875 -1.87  0.116  1.95  173.601562  \n",
      "933   91.601562 -1.84  0.323  2.19  225.796875  \n",
      "934  103.203125 -0.55  0.367 -0.95  271.390625  \n",
      "\n",
      "[935 rows x 17 columns]\n"
     ]
    }
   ],
   "source": [
    "# Load in Database from Sanaa's RF model\n",
    "df = pd.read_csv(home_dir + '/Data/ML_Database_All_AWRA_MOf_and_3MPrecip.csv')\n",
    "\n",
    "df = df.drop(df.columns[0], axis=1)\n",
    "\n",
    "df.rename(columns = {'Drought / No Drought': 'Drought'}, inplace=True)\n",
    "print(df)"
   ]
  },
  {
   "cell_type": "code",
   "execution_count": 4,
   "id": "269d3726-b0d8-48d3-8638-a0d85cfec04a",
   "metadata": {},
   "outputs": [
    {
     "name": "stdout",
     "output_type": "stream",
     "text": [
      "     Year     Month Year_Month     Location  Latitude  Longitude  Drought\n",
      "0    2014     March    2014-03        Cobar  -31.4980   145.8383        1\n",
      "1    2014  February    2014-02        Cobar  -31.4980   145.8383        1\n",
      "2    2014   January    2014-01        Cobar  -31.4980   145.8383        1\n",
      "3    2014     March    2014-03      Walgett  -30.0167   148.1167        1\n",
      "4    2014  February    2014-02      Walgett  -30.0167   148.1167        1\n",
      "..    ...       ...        ...          ...       ...        ...      ...\n",
      "930  2020  November    2020-11  Wagga Wagga  -35.1330   147.3670        0\n",
      "931  2020  December    2020-12  Wagga Wagga  -35.1330   147.3670        0\n",
      "932  2021   January    2021-01  Wagga Wagga  -35.1330   147.3670        0\n",
      "933  2021  February    2021-02  Wagga Wagga  -35.1330   147.3670        0\n",
      "934  2021     March    2021-03  Wagga Wagga  -35.1330   147.3670        0\n",
      "\n",
      "[935 rows x 7 columns]\n"
     ]
    }
   ],
   "source": [
    "# Create two databases from it - one with just the drought/no drought colomn and one with the climate drivers\n",
    "columns_to_drop_for_drought = ['Deep_Drainage', 'PET_Actual', 'E_Actual', 'Soil_M_root_zone', 'Qtot', 'Rainfall', 'ENSO', 'IOD', 'SAM', 'P_acc_3M']\n",
    "training_df = df.drop(columns_to_drop_for_drought, axis=1)\n",
    "\n",
    "print(training_df)\n",
    "\n",
    "training_df.to_csv(home_dir + '/Data/drought_dataframe.csv')"
   ]
  },
  {
   "cell_type": "markdown",
   "id": "ca277eff-5bae-4ad1-beea-a59dbf01b311",
   "metadata": {},
   "source": [
    "# Process New Data"
   ]
  },
  {
   "cell_type": "code",
   "execution_count": 5,
   "id": "b83357bb-eaaa-41d5-b853-aa0f67625835",
   "metadata": {},
   "outputs": [],
   "source": [
    "# Define functions needed for processing training data\n",
    "def add_predictor_to_training_df(training_dataframe, predictor_dataset, predictor_name, replace=False):\n",
    "    \"\"\"\n",
    "    Function which adds relevant data to the training dataframe\n",
    "    Args:\n",
    "    training_dataframe (pd.DataFrame): dataframe containing all other training data\n",
    "    predictor_dataset (xr.DataArray): xarray dataset of the predictor variable\n",
    "    predictor_name (str): full name of the predictor variable\n",
    "    replace (bool): if True and predictor_name already in df, it is replaced with new one (default=False)\n",
    "    \"\"\"\n",
    "    # Return the original dataframe if predictor_name exists and we're not replacing it.\n",
    "    if predictor_name in training_dataframe and not replace:\n",
    "        return training_dataframe\n",
    "\n",
    "    # Add empty column to training_df of predictor variable\n",
    "    training_dataframe[predictor_name] = None\n",
    "    \n",
    "    # Find the lat, long, and time columns from the dataframe\n",
    "    training_longs = training_dataframe['Longitude']\n",
    "    training_lats = training_dataframe['Latitude']\n",
    "    training_time = training_dataframe['Year_Month']\n",
    "\n",
    "    # Loop over each entry in training_df and add the corresponding entry from the predictor dataset\n",
    "    for i, time in enumerate(training_time):\n",
    "        time_check = pd.to_datetime(time)\n",
    "        if time_check <= predictor_dataset.coords['time'][-1].data:\n",
    "            predictor_at_i = predictor_dataset.sel(time=time).sel(lon=training_longs[i], lat=training_lats[i], method='nearest').data\n",
    "            training_dataframe[predictor_name].iat[i] = predictor_at_i\n",
    "        else:\n",
    "            break\n",
    "\n",
    "    return training_dataframe\n",
    "            \n",
    "\n",
    "def rename_coord_titles_to_lat_long(dataset):\n",
    "    \"\"\"\n",
    "    Changes the titles of the coordinates to lat long to keep it consistent\n",
    "    Args:\n",
    "    dataset (xr.DataSet): dataset with incorrect coordinate titles\n",
    "    \"\"\"\n",
    "    # Define mapping from old to new name\n",
    "\n",
    "    mapping = {\n",
    "        'X': 'lon',\n",
    "        'Y': 'lat'\n",
    "    }\n",
    "    \n",
    "    renamed_dataset = dataset.rename(mapping)\n",
    "\n",
    "    return renamed_dataset"
   ]
  },
  {
   "cell_type": "markdown",
   "id": "9fcbf560-98be-4760-88cf-872df37899fe",
   "metadata": {},
   "source": [
    "## Precipitation"
   ]
  },
  {
   "cell_type": "markdown",
   "id": "677ac3f0-f208-45e8-b6b8-56a90674517e",
   "metadata": {},
   "source": [
    "Using AGCD precipitation data which runs from 1900 to 2023 across the whole of Australia. Resolution is at 0.05 degrees."
   ]
  },
  {
   "cell_type": "code",
   "execution_count": 6,
   "id": "4ee659a5-50b6-41a3-bdff-9a9f1094f1fe",
   "metadata": {},
   "outputs": [],
   "source": [
    "# Load AGCD precip data\n",
    "precip_ds = xr.open_dataset('/g/data/w97/amu561/AGCD_drought_metrics/AGCD_1900_2021/AGCD_v1_precip_total_r005_monthly_1900_2021.nc')\n",
    "precip = precip_ds.precip\n",
    "\n",
    "precip_filepath = my_data_dir + '/RF_project/Precipitation/AGCD/'\n",
    "precip_3months = xr.open_dataarray(precip_filepath + 'AGCD_v1_precip_total_r005_3monthly_1900_2021.nc')\n",
    "precip_annual = xr.open_dataarray(precip_filepath + 'AGCD_v1_precip_total_r005_annual_1900_2021.nc')\n",
    "\n",
    "training_df = add_predictor_to_training_df(training_df, precip, 'Precipitation')\n",
    "training_df = add_predictor_to_training_df(training_df, precip_3months, 'Acc_3-Month_Precipitation')\n",
    "training_df = add_predictor_to_training_df(training_df, precip_annual, 'Acc_Annual_Precipitation')"
   ]
  },
  {
   "cell_type": "markdown",
   "id": "ce5a4c14-4998-429f-8d8f-4851ca55ebd4",
   "metadata": {},
   "source": [
    "## Runoff"
   ]
  },
  {
   "cell_type": "code",
   "execution_count": 7,
   "id": "6c7e4820-c018-44ee-81ce-c3708917e9d5",
   "metadata": {},
   "outputs": [],
   "source": [
    "runoff = xr.open_dataarray('/g/data/w97/mg5624/RF_project/Runoff/AWRA/AWRAv7_Runoff_month_1911_2023.nc')\n",
    "training_df = add_predictor_to_training_df(training_df, runoff, 'Runoff')"
   ]
  },
  {
   "cell_type": "markdown",
   "id": "3b143148-38de-42f5-b014-92dd4fec6fb4",
   "metadata": {},
   "source": [
    "## Climate Drivers: ENSO, IOD, SAM"
   ]
  },
  {
   "cell_type": "code",
   "execution_count": 8,
   "id": "62ab4122-957c-4ed0-9142-ffeb46947f94",
   "metadata": {},
   "outputs": [],
   "source": [
    "def sort_tabled_dataframe_into_correct_form(dataframe, driver):\n",
    "    \"\"\"\n",
    "    Takes in a dataframe with years down column 1 and months along row 1 and sorts it so that\n",
    "    the columns are \"Year\", \"Month\", \"Year_Month\", index.\n",
    "    Args:\n",
    "    dataframe (pd.DataFrame): Dataframe of the dirvers index in tabular form\n",
    "    driver (str): name of the driver\n",
    "    \"\"\"    \n",
    "    original_cols = dataframe.columns\n",
    "    if isinstance(original_cols[1], int) or original_cols[1] == '1':\n",
    "        # Transform dataframe so that it has a month column instead of months on the rows\n",
    "        melted_df = dataframe.melt(id_vars=['Year'], var_name='Month', value_name=f'{driver}_index')\n",
    "        dataframe = melted_df\n",
    "    else:    \n",
    "        dataframe.rename(columns={'Index': f'{driver}_index'}, inplace=True)\n",
    "\n",
    "    # Ensure Months are saved as 1 digit strings\n",
    "    dataframe['Month'] = dataframe['Month'].astype(int).astype(str)\n",
    "    \n",
    "    # Create new \"Year_Month\" column\n",
    "    dataframe[\"Year_Month\"] = dataframe['Year'].astype(str) + '-' + dataframe['Month'].str.zfill(2)\n",
    "\n",
    "    # Swap \"Year_Month\" column with index column\n",
    "    new_cols = list(dataframe.columns)\n",
    "    new_cols[3], new_cols[2] = new_cols[2], new_cols[3]\n",
    "    switch_cols_df = dataframe[new_cols]\n",
    "\n",
    "    # Remove Year and Month columns\n",
    "    final_df = switch_cols_df[['Year_Month', f'{driver}_index']]\n",
    "    return final_df\n",
    "\n",
    "\n",
    "def add_drivers_df_to_training_df(training_df, driver):\n",
    "    \"\"\"\n",
    "    Adds the data from the drivers index to the training dataframe.\n",
    "    Args:\n",
    "    training_df (pd.DataFrame): Dataframe containing the training data\n",
    "    driver (str): name of the driver\n",
    "    \"\"\"\n",
    "    # Define dictionary of driver to index name\n",
    "    index_name = {'ENSO': 'BEST', 'IOD': 'DMI', 'SAM': 'AAO'}\n",
    "    \n",
    "    # Sort the dataframe into correct format\n",
    "    df = pd.read_csv(my_data_dir + f'RF_project/{driver}/{driver}_{index_name[driver]}_index.csv')\n",
    "\n",
    "    sorted_df = sort_tabled_dataframe_into_correct_form(df, driver)\n",
    "    \n",
    "    # Merge driver dataframe into training dataframe\n",
    "    merged_df = pd.merge(training_df, sorted_df, on='Year_Month', how='inner')\n",
    "    \n",
    "    return merged_df"
   ]
  },
  {
   "cell_type": "code",
   "execution_count": 9,
   "id": "56406f85-bac7-4dce-8339-fa581b6361ed",
   "metadata": {},
   "outputs": [],
   "source": [
    "drivers = ['ENSO', 'IOD', 'SAM']\n",
    "index_name = {'ENSO': 'BEST', 'IOD': 'DMI', 'SAM': 'AAO'}\n",
    "\n",
    "for driver in drivers:    \n",
    "    # Add the drivers to the training dataframe if they're not in there yet\n",
    "    if not f'{driver}_index' in training_df.columns:\n",
    "        training_df = add_drivers_df_to_training_df(training_df, driver)\n",
    "\n",
    "    # Save the full drivers dataframes to my data dir\n",
    "    df = pd.read_csv(my_data_dir + f'RF_project/{driver}/{driver}_{index_name[driver]}_index.csv')\n",
    "    sorted_df = sort_tabled_dataframe_into_correct_form(df, driver)\n",
    "    sorted_df.to_csv(my_data_dir + f'RF_project/{driver}/{driver}_{index_name[driver]}_index_sorted.csv')"
   ]
  },
  {
   "cell_type": "markdown",
   "id": "52892641-f2d0-4f36-8467-e14876de65b8",
   "metadata": {},
   "source": [
    "## Evapotranspiration and Potential Evapotranspiration"
   ]
  },
  {
   "cell_type": "code",
   "execution_count": 10,
   "id": "0b0609cb-0aa9-45d8-b090-cda2935aff17",
   "metadata": {},
   "outputs": [],
   "source": [
    "GLEAM_data_path = my_data_dir + f'RF_project/ET_products/v3_6/'\n",
    "\n",
    "\n",
    "ET = xr.open_dataarray(GLEAM_data_path + 'ET/ET_1980-2021_GLEAM_v3.6a_MO_Australia_0.05grid.nc')\n",
    "PET = xr.open_dataarray(GLEAM_data_path + 'PET/PET_1980-2021_GLEAM_v3.6a_MO_Australia_0.05grid.nc')\n",
    "\n",
    "training_df = add_predictor_to_training_df(training_df, ET, 'ET')\n",
    "training_df = add_predictor_to_training_df(training_df, PET, 'PET')"
   ]
  },
  {
   "cell_type": "markdown",
   "id": "acd5d827-9740-4dbf-9e2f-efa751673978",
   "metadata": {},
   "source": [
    "## Soil Moisture"
   ]
  },
  {
   "cell_type": "code",
   "execution_count": 11,
   "id": "02b7b0e7-ee6e-42c3-93cb-eb8b315b16bb",
   "metadata": {},
   "outputs": [],
   "source": [
    "SM_path = my_data_dir + 'RF_project/Soil_Moisture/v3_8/'\n",
    "SM_vars = ['SMsurf', 'SMroot']\n",
    "\n",
    "for var in SM_vars:\n",
    "    sm_dataset = xr.open_dataset(SM_path + f'{var}/{var}_1980-2022_GLEAM_v3.8a_MO_Australia_0.05grid.nc')\n",
    "\n",
    "    if var == 'SMsurf':\n",
    "        sm_dataarray = sm_dataset.SMsurf\n",
    "    else:\n",
    "        sm_dataarray = sm_dataset.SMroot\n",
    " \n",
    "    training_df = add_predictor_to_training_df(training_df, sm_dataarray, var)"
   ]
  },
  {
   "cell_type": "markdown",
   "id": "86ab4797-2d27-4815-9bf3-7f6e33959b56",
   "metadata": {},
   "source": [
    "## Change in Water Storage"
   ]
  },
  {
   "cell_type": "code",
   "execution_count": 12,
   "id": "e011f999-3f2e-413f-98e9-8c66fcacbb2b",
   "metadata": {},
   "outputs": [],
   "source": [
    "# CWS = xr.open_dataarray(my_data_dir + '/RF_project/Water_Storage/CWS_v03_JPL_MSWEP_monthly_ensemble_mean_Australia_0.05grid.nc')\n",
    "# training_df = add_predictor_to_training_df(training_df, CWS, 'CWS')"
   ]
  },
  {
   "cell_type": "code",
   "execution_count": 13,
   "id": "9b287b19-eb85-4578-a7fe-4a5a9f57aa41",
   "metadata": {},
   "outputs": [],
   "source": [
    "# print(training_df)"
   ]
  },
  {
   "cell_type": "markdown",
   "id": "3a0fb6c7-302b-41ae-913f-bea78d236a4e",
   "metadata": {},
   "source": [
    "## Months"
   ]
  },
  {
   "cell_type": "code",
   "execution_count": 14,
   "id": "5375daae-429e-42b8-9b23-28a2c324367f",
   "metadata": {},
   "outputs": [],
   "source": [
    "def add_cyclical_month_columns_to_training_df(training_dataframe):\n",
    "    \"\"\"\n",
    "    Adds two extra columns to training dataframe (sine_month and cosine_month) to proved cyclical months.\n",
    "    Args:\n",
    "    training_dataframe (pd.DataFrame): Dataframe containing the training data\n",
    "    \"\"\"\n",
    "    months  = [\n",
    "        'January', 'February', 'March', 'April', 'May', 'June', \n",
    "        'July', 'August', 'September', 'October', 'November', 'December'\n",
    "    ]\n",
    "\n",
    "    month_numbers = np.arange(1, 13)\n",
    "\n",
    "    angles = 2 * np.pi * month_numbers / 12\n",
    "    sin_month = np.sin(angles)\n",
    "    cos_month = np.cos(angles)\n",
    "\n",
    "    month_data = {'Month': months, 'Sin_month': sin_month, 'Cos_month': cos_month}\n",
    "    month_df = pd.DataFrame(month_data)\n",
    "    \n",
    "    merged_df = pd.merge(training_dataframe, month_df, on='Month', how='inner')\n",
    "\n",
    "    return merged_df\n",
    "    \n",
    "\n",
    "training_df = add_cyclical_month_columns_to_training_df(training_df)"
   ]
  },
  {
   "cell_type": "markdown",
   "id": "92d18875-e123-4e65-8ef7-b27f4cd03d5e",
   "metadata": {},
   "source": [
    "## Save Training Dataframe"
   ]
  },
  {
   "cell_type": "code",
   "execution_count": 15,
   "id": "3cc1f798-8abd-4022-aae3-9f229e23c88d",
   "metadata": {},
   "outputs": [
    {
     "name": "stdout",
     "output_type": "stream",
     "text": [
      "     Year      Month Year_Month     Location  Latitude  Longitude  Drought  \\\n",
      "0    2014      March    2014-03        Cobar  -31.4980   145.8383        1   \n",
      "1    2014      March    2014-03      Walgett  -30.0167   148.1167        1   \n",
      "2    2014      March    2014-03    Coonamble  -30.9500   148.4000        1   \n",
      "3    2014      March    2014-03       Warren  -31.7000   147.8330        1   \n",
      "4    2014      March    2014-03       Nyngan  -31.5630   147.1962        1   \n",
      "..    ...        ...        ...          ...       ...        ...      ...   \n",
      "930  2020  September    2020-09     Bermagui  -36.4167   150.0667        0   \n",
      "931  2020  September    2020-09         Bega  -36.6742   149.8429        0   \n",
      "932  2020  September    2020-09       Casino  -28.8667   153.0500        0   \n",
      "933  2020  September    2020-09      Bonalbo  -28.7372   152.6220        0   \n",
      "934  2020  September    2020-09  Wagga Wagga  -35.1330   147.3670        0   \n",
      "\n",
      "    Precipitation Acc_3-Month_Precipitation Acc_Annual_Precipitation  \\\n",
      "0       55.470703                 145.64551                357.82227   \n",
      "1        33.60547                 67.961914                186.30273   \n",
      "2         68.3916                 154.28809                311.47363   \n",
      "3        73.58301                 154.71777                430.97656   \n",
      "4        97.52832                 154.00293                 391.6504   \n",
      "..            ...                       ...                      ...   \n",
      "930     11.567383                 436.86133                 898.5205   \n",
      "931     7.1464844                 411.83105                 782.0371   \n",
      "932     34.606445                 121.20508                936.39844   \n",
      "933     23.111328                  93.68652                 832.6426   \n",
      "934      57.04004                 163.32031                544.13477   \n",
      "\n",
      "         Runoff  ENSO_index  IOD_index  SAM_index          ET        PET  \\\n",
      "0     3.5871878        0.54     -0.151     0.4670   91.697754   88.05308   \n",
      "1     0.5410406        0.54     -0.151     0.4670    48.26069   82.15812   \n",
      "2      8.235512        0.54     -0.151     0.4670    82.33807   83.49385   \n",
      "3     1.6018109        0.54     -0.151     0.4670   91.272514  81.762856   \n",
      "4      4.094749        0.54     -0.151     0.4670   101.36052   83.70858   \n",
      "..          ...         ...        ...        ...         ...        ...   \n",
      "930   3.4937637       -1.24     -0.190     0.1943    92.54949    94.0693   \n",
      "931  0.08841552       -1.24     -0.190     0.1943  117.725586   64.91116   \n",
      "932   1.7958828       -1.24     -0.190     0.1943   128.86902   74.01413   \n",
      "933  0.17509411       -1.24     -0.190     0.1943   115.49574   69.76561   \n",
      "934    8.918221       -1.24     -0.190     0.1943   101.76967   54.81956   \n",
      "\n",
      "         SMsurf      SMroot  Sin_month     Cos_month  \n",
      "0    0.18483418  0.17553134        1.0  6.123234e-17  \n",
      "1    0.20971794  0.21847136        1.0  6.123234e-17  \n",
      "2    0.30383837  0.30577788        1.0  6.123234e-17  \n",
      "3    0.27662835  0.26661703        1.0  6.123234e-17  \n",
      "4     0.2507473  0.23307654        1.0  6.123234e-17  \n",
      "..          ...         ...        ...           ...  \n",
      "930  0.07509043  0.07509043       -1.0 -1.836970e-16  \n",
      "931  0.31229225  0.32124516       -1.0 -1.836970e-16  \n",
      "932  0.33705795  0.32911742       -1.0 -1.836970e-16  \n",
      "933  0.28865325  0.27823037       -1.0 -1.836970e-16  \n",
      "934  0.33166516  0.30739224       -1.0 -1.836970e-16  \n",
      "\n",
      "[935 rows x 20 columns]\n"
     ]
    }
   ],
   "source": [
    "training_df.to_csv(my_data_dir + f'RF_project/training_data/training_data.csv')\n",
    "print(training_df)"
   ]
  },
  {
   "cell_type": "code",
   "execution_count": null,
   "id": "fb953601-b3cc-4a96-80bb-f4018452ef12",
   "metadata": {},
   "outputs": [],
   "source": []
  }
 ],
 "metadata": {
  "kernelspec": {
   "display_name": "Python [conda env:analysis3]",
   "language": "python",
   "name": "conda-env-analysis3-py"
  },
  "language_info": {
   "codemirror_mode": {
    "name": "ipython",
    "version": 3
   },
   "file_extension": ".py",
   "mimetype": "text/x-python",
   "name": "python",
   "nbconvert_exporter": "python",
   "pygments_lexer": "ipython3",
   "version": "3.9.17"
  }
 },
 "nbformat": 4,
 "nbformat_minor": 5
}
